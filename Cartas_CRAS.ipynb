{
  "nbformat": 4,
  "nbformat_minor": 0,
  "metadata": {
    "colab": {
      "name": "Untitled0.ipynb",
      "provenance": [],
      "collapsed_sections": [],
      "authorship_tag": "ABX9TyNRJUtRI+tKKdC7CL6Ozbw0",
      "include_colab_link": true
    },
    "kernelspec": {
      "name": "python3",
      "display_name": "Python 3"
    },
    "language_info": {
      "name": "python"
    }
  },
  "cells": [
    {
      "cell_type": "markdown",
      "metadata": {
        "id": "view-in-github",
        "colab_type": "text"
      },
      "source": [
        "<a href=\"https://colab.research.google.com/github/Eduardoalmadarodrigues/Projetos_Pessoais/blob/main/Cartas_CRAS.ipynb\" target=\"_parent\"><img src=\"https://colab.research.google.com/assets/colab-badge.svg\" alt=\"Open In Colab\"/></a>"
      ]
    },
    {
      "cell_type": "markdown",
      "source": [
        "Programa feito para automatizar a produção de cartas para o CRAS onde trabalho.\n",
        "\n",
        "Mensalmente recebemos uma listagem em excel contendo informações de beneficiários de programas sociais\n",
        "\n",
        "Ao receber essa lista nós fazíamos manualmente cada carta no word, uma para cada família\n",
        "\n",
        "As cartas são enviadas para a casa dos beneficiários convidando-os para diversos eventos relacionado ao benefício que recebem\n",
        "\n",
        "Agora basta deixar as famílias escolhidas no excel recebido\n",
        "\n",
        "O programa confecciona e cria em uma pasta um arquivo para cada família na listagem\n",
        "\n",
        "Feito isso é só mandar imprimir tudo\n",
        "\n",
        "Antes o que levava semanas, agora é feito em segundos!\n",
        "\n",
        "O programa coleta os dados do excel, monta e organiza as cartas exatamente como necessário"
      ],
      "metadata": {
        "id": "Oqg4l0IdzlBz"
      }
    },
    {
      "cell_type": "code",
      "execution_count": null,
      "metadata": {
        "id": "tdrDE2ZGzh57"
      },
      "outputs": [],
      "source": [
        "import pandas as pd\n",
        "from docx import Document\n",
        "from IPython.display import clear_output\n",
        "import docx\n",
        "from docx.shared import Pt\n",
        "\n",
        "listagem = pd.read_excel('dados.xls')\n",
        "remetente = \"Remetente:\\nCentro de Referência de Assistência Social (CRAS)\\nAv. dos Expedicionários, 404, Bela Vista.\\nLeopoldina – Minas Gerais\\n36703-000\"\n",
        "\n",
        "for index in dataBase.index:\n",
        "    \n",
        "    destinatario = \"Destinatário:\\nNome: \" +listagem['NOME'][index]+\"\\nRua: \" +listagem['ENDERECO'][index]+\"\\nLeopoldina-MG\\nCEP: \"+str(listagem['CEP'][index])\n",
        "    clear_output(wait=True) #lib IPython.display\n",
        "    carta = Document() # Lib docx\n",
        "    \n",
        "    cartaRemetente = documento.add_paragraph().add_run(remetente) #.add_run cria um objeto para manipular format\n",
        "    cartaRemetente.font.size = Pt(20) #alterando as prop do objeto formata o texto adicionado com .add_paragraph\n",
        "    \n",
        "    carta.add_paragraph(\"\\n\"*20) #espaço meio da carta\n",
        "    \n",
        "    cartaDestinatario = documento.add_paragraph().add_run(destinatario)\n",
        "    cartaDestinatario.font.size = Pt(20) #Pt é a lib docx.shared\n",
        "    \n",
        "    documento.save(\"C:\\\\Users\\\\Eduardo\\\\Desktop\\\\bpcc\\\\\"+dataBase['NOME'][index]+\".docx\")\n",
        "    \n",
        "    print( \"Finalizado \" + str(index+1) + \"° de \" + str(len(listagem.index)) + \" arquivos.\" ) \n",
        "    \n",
        "print(\"A tarefa falhou com sucesso!\")"
      ]
    }
  ]
}