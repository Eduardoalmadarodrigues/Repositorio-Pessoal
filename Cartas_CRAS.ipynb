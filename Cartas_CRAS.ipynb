{
  "nbformat": 4,
  "nbformat_minor": 0,
  "metadata": {
    "colab": {
      "name": "Untitled0.ipynb",
      "provenance": [],
      "collapsed_sections": [],
      "authorship_tag": "ABX9TyPwTEQNo6M96hWW3s8XCZ8X",
      "include_colab_link": true
    },
    "kernelspec": {
      "name": "python3",
      "display_name": "Python 3"
    },
    "language_info": {
      "name": "python"
    }
  },
  "cells": [
    {
      "cell_type": "markdown",
      "metadata": {
        "id": "view-in-github",
        "colab_type": "text"
      },
      "source": [
        "<a href=\"https://colab.research.google.com/github/Eduardoalmadarodrigues/Projetos_Pessoais/blob/main/Cartas_CRAS.ipynb\" target=\"_parent\"><img src=\"https://colab.research.google.com/assets/colab-badge.svg\" alt=\"Open In Colab\"/></a>"
      ]
    },
    {
      "cell_type": "markdown",
      "source": [
        "Programa feito para automatizar a produção de cartas para o CRAS onde trabalho.\n",
        "\n",
        "Mensalmente recebemos uma listagem em excel contendo informações de beneficiários de programas sociais\n",
        "\n",
        "Ao receber essa lista nós fazíamos manualmente cada carta no word, uma para cada família\n",
        "\n",
        "As cartas são enviadas para a casa dos beneficiários convidando-os para diversos eventos relacionado ao benefício que recebem\n",
        "\n",
        "Agora basta deixar as famílias escolhidas no excel recebido\n",
        "\n",
        "O programa confecciona e cria em uma pasta um arquivo para cada família na listagem\n",
        "\n",
        "Feito isso é só mandar imprimir tudo\n",
        "\n",
        "Antes o que levava semanas, agora é feito em segundos!\n",
        "\n",
        "O programa coleta os dados do excel, monta e organiza as cartas exatamente como necessário"
      ],
      "metadata": {
        "id": "Oqg4l0IdzlBz"
      }
    },
    {
      "cell_type": "code",
      "execution_count": null,
      "metadata": {
        "id": "tdrDE2ZGzh57"
      },
      "outputs": [],
      "source": [
        "import pandas as pd\n",
        "from docx import Document as dc\n",
        "from IPython.display import clear_output\n",
        "import docx\n",
        "from docx.shared import Pt\n",
        "\n",
        "dataBase = pd.read_excel('dados.xls')\n",
        "remetente = \"Remetente:\\nCentro de Referência de Assistência Social (CRAS)\\nAv. dos Expedicionários, 404, Bela Vista.\\nLeopoldina – Minas Gerais\\n36703-000\"\n",
        "\n",
        "for x in dataBase.index:\n",
        "    \n",
        "    destinatario = \"Destinatário:\\nNome: \" +dataBase['NOME'][x]+\"\\nRua: \" +dataBase['ENDERECO'][x]+\"\\nLeopoldina-MG\\nCEP: \"+str(dataBase['CEP'][x])\n",
        "    clear_output(wait=True) #função clear console - com param wait atualização fica suave\n",
        "    documento = dc() #cria o objt docx\n",
        "    \n",
        "    documentoRemetente = documento.add_paragraph().add_run(remetente) #.add_run cria um objeto para manipular formatação\n",
        "    documentoRemetente.font.size = Pt(20) #alterando as prop do objeto formata o texto adicionado com .add_paragraph().add_run()\n",
        "    \n",
        "    documento.add_paragraph(\"\\n\"*20) #espaço meio da carta\n",
        "    \n",
        "    documentoDestinatario = documento.add_paragraph().add_run(destinatario)\n",
        "    documentoDestinatario.font.size = Pt(20) #Pt é da lib docx.shared\n",
        "    \n",
        "    documento.save(\"C:\\\\Users\\\\Eduardo\\\\Desktop\\\\cartas_CRAS\\\\\"+dataBase['NOME'][x]+\".docx\")\n",
        "    \n",
        "    print( \"Finalizado \" + str(x+1) + \"° de \" + str(len(dataBase.index)) + \" arquivos.\" ) \n",
        "    \n",
        "print(\"A tarefa falhou com sucesso!\")"
      ]
    }
  ]
}